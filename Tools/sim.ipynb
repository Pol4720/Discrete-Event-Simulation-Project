{
 "cells": [
  {
   "cell_type": "markdown",
   "id": "5bfe2885",
   "metadata": {},
   "source": [
    "## Introducción\n",
    "Simulamos un sistema con `n` máquinas operativas y `s` repuestos para estimar el tiempo promedio hasta el colapso del sistema."
   ]
  },
  {
   "cell_type": "code",
   "execution_count": 66,
   "id": "40ac5705",
   "metadata": {},
   "outputs": [],
   "source": [
    "from simulator import SystemSimulator\n",
    "import numpy as np\n",
    "import heapq\n",
    "import matplotlib.pyplot as plt\n",
    "from scipy.special import erfcinv"
   ]
  },
  {
   "cell_type": "markdown",
   "id": "8e49c7bc",
   "metadata": {},
   "source": [
    "## Configuración inicial"
   ]
  },
  {
   "cell_type": "code",
   "execution_count": 68,
   "id": "3e2f7cc9",
   "metadata": {},
   "outputs": [],
   "source": [
    "# Configurar parámetros\n",
    "n = 5       # Máquinas operativas\n",
    "s = 2       # Repuestos\n",
    "lambda_fail = 0.1  # Tasa de fallos\n",
    "mu_repair = 0.5    # Tasa de reparación\n",
    "k = 100    # Número de simulaciones iniciales\n",
    "c=erfcinv(0.05)\n",
    "d = 0.5\n",
    "\n",
    "# Definir distribuciones\n",
    "F_dist = lambda size=None: np.random.exponential(1/lambda_fail, size)\n",
    "G_dist = lambda: np.random.exponential(1/mu_repair)"
   ]
  },
  {
   "cell_type": "markdown",
   "id": "21cd2032",
   "metadata": {},
   "source": [
    "## Ejecución de la simulación"
   ]
  },
  {
   "cell_type": "code",
   "execution_count": 70,
   "id": "c4438dce",
   "metadata": {},
   "outputs": [
    {
     "ename": "TypeError",
     "evalue": "SystemSimulator.simulate() takes 3 positional arguments but 4 were given",
     "output_type": "error",
     "traceback": [
      "\u001b[1;31m---------------------------------------------------------------------------\u001b[0m",
      "\u001b[1;31mTypeError\u001b[0m                                 Traceback (most recent call last)",
      "Cell \u001b[1;32mIn[70], line 2\u001b[0m\n\u001b[0;32m      1\u001b[0m simulator \u001b[38;5;241m=\u001b[39m SystemSimulator(n, s, F_dist, G_dist)\n\u001b[1;32m----> 2\u001b[0m mean_crash_time \u001b[38;5;241m=\u001b[39m \u001b[43msimulator\u001b[49m\u001b[38;5;241;43m.\u001b[39;49m\u001b[43msimulate\u001b[49m\u001b[43m(\u001b[49m\u001b[43mk\u001b[49m\u001b[43m,\u001b[49m\u001b[43mc\u001b[49m\u001b[43m,\u001b[49m\u001b[43md\u001b[49m\u001b[43m)\u001b[49m\n\u001b[0;32m      3\u001b[0m \u001b[38;5;28mprint\u001b[39m(\u001b[38;5;124mf\u001b[39m\u001b[38;5;124m\"\u001b[39m\u001b[38;5;124mTiempo promedio hasta el colapso: \u001b[39m\u001b[38;5;132;01m{\u001b[39;00mmean_crash_time[\u001b[38;5;241m0\u001b[39m]\u001b[38;5;132;01m:\u001b[39;00m\u001b[38;5;124m.2f\u001b[39m\u001b[38;5;132;01m}\u001b[39;00m\u001b[38;5;124m\"\u001b[39m)\n",
      "\u001b[1;31mTypeError\u001b[0m: SystemSimulator.simulate() takes 3 positional arguments but 4 were given"
     ]
    }
   ],
   "source": [
    "simulator = SystemSimulator(n, s, F_dist, G_dist)\n",
    "mean_crash_time = simulator.simulate(k,c,d)\n",
    "print(f\"Tiempo promedio hasta el colapso: {mean_crash_time[0]:.2f}\")"
   ]
  },
  {
   "cell_type": "markdown",
   "id": "f876eff8",
   "metadata": {},
   "source": [
    "## Análisis de resultados"
   ]
  },
  {
   "cell_type": "code",
   "execution_count": 52,
   "id": "f420332d",
   "metadata": {},
   "outputs": [
    {
     "ename": "IndexError",
     "evalue": "invalid index to scalar variable.",
     "output_type": "error",
     "traceback": [
      "\u001b[1;31m---------------------------------------------------------------------------\u001b[0m",
      "\u001b[1;31mIndexError\u001b[0m                                Traceback (most recent call last)",
      "Cell \u001b[1;32mIn[52], line 1\u001b[0m\n\u001b[1;32m----> 1\u001b[0m crash_times \u001b[38;5;241m=\u001b[39m \u001b[43mmean_crash_time\u001b[49m\u001b[43m[\u001b[49m\u001b[38;5;241;43m1\u001b[39;49m\u001b[43m]\u001b[49m\n\u001b[0;32m      2\u001b[0m plt\u001b[38;5;241m.\u001b[39mhist(crash_times, bins\u001b[38;5;241m=\u001b[39m\u001b[38;5;241m50\u001b[39m, density\u001b[38;5;241m=\u001b[39m\u001b[38;5;28;01mTrue\u001b[39;00m)\n\u001b[0;32m      3\u001b[0m plt\u001b[38;5;241m.\u001b[39mxlabel(\u001b[38;5;124m'\u001b[39m\u001b[38;5;124mTiempo hasta colapso\u001b[39m\u001b[38;5;124m'\u001b[39m)\n",
      "\u001b[1;31mIndexError\u001b[0m: invalid index to scalar variable."
     ]
    }
   ],
   "source": [
    "crash_times = mean_crash_time[1]\n",
    "plt.hist(crash_times, bins=50, density=True)\n",
    "plt.xlabel('Tiempo hasta colapso')\n",
    "plt.ylabel('Frecuencia')\n",
    "plt.title('Distribución de tiempos de colapso')\n",
    "plt.show()"
   ]
  },
  {
   "cell_type": "markdown",
   "id": "567f704a",
   "metadata": {},
   "source": [
    "## Análisis de Sensibilidad\n",
    "\n",
    "Investiguemos cómo varían los resultados al cambiar los parámetros del sistema."
   ]
  },
  {
   "cell_type": "code",
   "execution_count": null,
   "id": "1a727305",
   "metadata": {},
   "outputs": [],
   "source": []
  },
  {
   "cell_type": "markdown",
   "id": "ff2e6a16",
   "metadata": {},
   "source": [
    "## Modelo Matemático"
   ]
  },
  {
   "cell_type": "code",
   "execution_count": null,
   "id": "71130676",
   "metadata": {},
   "outputs": [],
   "source": [
    "import numpy as np\n",
    "import matplotlib.pyplot as plt\n",
    "from scipy import stats\n",
    "\n",
    "# 1. Modelo Teórico (CTMC)\n",
    "def theoretical_E_T(n, s, lambda_fail, mu_repair):\n",
    "    \"\"\"Calcula E[T] teórico usando la fórmula de cadena de Markov\"\"\"\n",
    "    E_T = 0.0\n",
    "    product = 1.0\n",
    "    for k in range(s + 1):\n",
    "        product *= (n - k) * lambda_fail / mu_repair if k > 0 else 1\n",
    "        E_T += 1 / ((n - k) * lambda_fail) * product\n",
    "    return E_T\n",
    "\n"
   ]
  },
  {
   "cell_type": "markdown",
   "id": "970c7ea3",
   "metadata": {},
   "source": [
    "## Comparación Simulación vs Modelo"
   ]
  },
  {
   "cell_type": "code",
   "execution_count": null,
   "id": "f523d38e",
   "metadata": {},
   "outputs": [],
   "source": [
    "# 2. Parámetros de ejemplo\n",
    "n = 5\n",
    "s_values = [1, 2, 3]\n",
    "lambda_fail = 0.1\n",
    "mu_repair = 0.5\n",
    "k_simulations = 1000\n",
    "\n",
    "# 3. Simulación y cálculos teóricos\n",
    "results = {'Teórico': [], 'Simulado': [], 'Error': []}\n",
    "\n",
    "for s in s_values:\n",
    "    # Cálculo teórico\n",
    "    teorico = theoretical_E_T(n, s, lambda_fail, mu_repair)\n",
    "    \n",
    "    # Simulación\n",
    "    F = lambda size: np.random.exponential(1/lambda_fail, size)\n",
    "    G = lambda: np.random.exponential(1/mu_repair)\n",
    "    \n",
    "    simulator = SystemSimulator(n, s, F, G)\n",
    "    simulaciones = [simulator.single_run() for _ in range(k_simulations)]\n",
    "    \n",
    "    # Almacenar resultados\n",
    "    results['Teórico'].append(teorico)\n",
    "    results['Simulado'].append(np.mean(simulaciones))\n",
    "    results['Error'].append(100 * abs(teorico - np.mean(simulaciones))/teorico)\n",
    "\n",
    "# 4. Gráficas comparativas\n",
    "plt.figure(figsize=(12, 6))\n",
    "\n",
    "# Gráfico de barras comparativo\n",
    "plt.subplot(1, 2, 1)\n",
    "x = np.arange(len(s_values))\n",
    "width = 0.35\n",
    "plt.bar(x - width/2, results['Teórico'], width, label='Teórico', alpha=0.7)\n",
    "plt.bar(x + width/2, results['Simulado'], width, label='Simulado', alpha=0.7)\n",
    "plt.xticks(x, s_values)\n",
    "plt.xlabel('Número de repuestos (s)')\n",
    "plt.ylabel('E[T] (horas)')\n",
    "plt.title('Comparación Teórico vs Simulado')\n",
    "plt.legend()\n",
    "\n",
    "# Gráfico de error porcentual\n",
    "plt.subplot(1, 2, 2)\n",
    "plt.plot(s_values, results['Error'], 'r-o')\n",
    "plt.xlabel('Número de repuestos (s)')\n",
    "plt.ylabel('Error Relativo (%)')\n",
    "plt.title('Error entre Modelo y Simulación')\n",
    "plt.grid(True)\n",
    "\n",
    "plt.tight_layout()\n",
    "plt.show()\n",
    "\n",
    "# 5. Histograma detallado para s=2\n",
    "s = 2\n",
    "simulaciones = [simulator.single_run() for _ in range(k_simulations)]\n",
    "teorico = theoretical_E_T(n, s, lambda_fail, mu_repair)\n",
    "\n",
    "plt.figure(figsize=(10, 6))\n",
    "plt.hist(simulaciones, bins=50, density=True, alpha=0.7, color='steelblue')\n",
    "plt.axvline(teorico, color='red', linestyle='--', linewidth=2, label=f'Teórico: {teorico:.2f} h')\n",
    "plt.axvline(np.mean(simulaciones), color='green', linestyle=':', linewidth=2,label=f'Simulado: {np.mean(simulaciones):.2f} h')\n",
    "\n",
    "# Ajuste de distribución teórica\n",
    "shape, loc, scale = stats.lognorm.fit(simulaciones, floc=0)\n",
    "x = np.linspace(min(simulaciones), max(simulaciones), 100)\n",
    "pdf = stats.lognorm.pdf(x, shape, loc, scale)\n",
    "plt.plot(x, pdf, 'k-', label='Ajuste Lognormal')\n",
    "\n",
    "plt.xlabel('Tiempo hasta colapso (horas)')\n",
    "plt.ylabel('Densidad')\n",
    "plt.title(f'Distribución de Tiempos de Colapso (s={s})')\n",
    "plt.legend()\n",
    "plt.show()\n",
    "\n",
    "# 6. Gráfico de convergencia\n",
    "convergencia = np.cumsum(simulaciones) / (np.arange(k_simulations) + 1)\n",
    "\n",
    "plt.figure(figsize=(10, 6))\n",
    "plt.plot(convergencia, label='Media Simulada')\n",
    "plt.axhline(teorico, color='red', linestyle='--', label='Valor Teórico')\n",
    "plt.fill_between(range(k_simulations), \n",
    "                convergencia - 1.96*np.std(simulaciones)/np.sqrt(np.arange(1, k_simulations+1)),\n",
    "                convergencia + 1.96*np.std(simulaciones)/np.sqrt(np.arange(1, k_simulations+1)),\n",
    "                alpha=0.2, color='blue')\n",
    "\n",
    "plt.xlabel('Número de Simulaciones')\n",
    "plt.ylabel('E[T] (horas)')\n",
    "plt.title('Convergencia del Estimador')\n",
    "plt.legend()\n",
    "plt.grid(True)\n",
    "plt.show()\n"
   ]
  }
 ],
 "metadata": {
  "kernelspec": {
   "display_name": "Python 3",
   "language": "python",
   "name": "python3"
  },
  "language_info": {
   "codemirror_mode": {
    "name": "ipython",
    "version": 3
   },
   "file_extension": ".py",
   "mimetype": "text/x-python",
   "name": "python",
   "nbconvert_exporter": "python",
   "pygments_lexer": "ipython3",
   "version": "3.12.2"
  }
 },
 "nbformat": 4,
 "nbformat_minor": 5
}
